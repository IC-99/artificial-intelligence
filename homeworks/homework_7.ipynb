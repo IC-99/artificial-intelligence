{
 "cells": [
  {
   "cell_type": "code",
   "execution_count": 1,
   "id": "5bf3552d",
   "metadata": {},
   "outputs": [],
   "source": [
    "def fact(n):\n",
    "    if(n == 1):\n",
    "        return 1\n",
    "    return n * fact(n - 1)"
   ]
  },
  {
   "cell_type": "code",
   "execution_count": 2,
   "id": "09935c1b",
   "metadata": {},
   "outputs": [],
   "source": [
    "# numero combinazioni di classe k di n oggetti\n",
    "def comb(n, k):\n",
    "    return int(fact(n) / (fact(n - k) * fact(k)))"
   ]
  },
  {
   "cell_type": "code",
   "execution_count": 14,
   "id": "0612d689",
   "metadata": {},
   "outputs": [
    {
     "data": {
      "text/plain": [
       "10"
      ]
     },
     "execution_count": 14,
     "metadata": {},
     "output_type": "execute_result"
    }
   ],
   "source": [
    "comb(5, 3)"
   ]
  },
  {
   "cell_type": "code",
   "execution_count": 9,
   "id": "0d8e68cc",
   "metadata": {},
   "outputs": [],
   "source": [
    "# numero disposizioni di classe k di n oggetti\n",
    "def disp(n, k):\n",
    "    return n**k\n",
    "    "
   ]
  },
  {
   "cell_type": "code",
   "execution_count": 10,
   "id": "4da90e8d",
   "metadata": {},
   "outputs": [
    {
     "data": {
      "text/plain": [
       "9"
      ]
     },
     "execution_count": 10,
     "metadata": {},
     "output_type": "execute_result"
    }
   ],
   "source": [
    "disp(3,2)"
   ]
  },
  {
   "cell_type": "code",
   "execution_count": 11,
   "id": "cc38135f",
   "metadata": {},
   "outputs": [],
   "source": [
    "# numero permutazioni di n oggetti\n",
    "def perm(n):\n",
    "    return fact(n)"
   ]
  },
  {
   "cell_type": "code",
   "execution_count": 13,
   "id": "6e7431f1",
   "metadata": {},
   "outputs": [
    {
     "data": {
      "text/plain": [
       "24"
      ]
     },
     "execution_count": 13,
     "metadata": {},
     "output_type": "execute_result"
    }
   ],
   "source": [
    "perm(4)"
   ]
  }
 ],
 "metadata": {
  "kernelspec": {
   "display_name": "Python 3 (ipykernel)",
   "language": "python",
   "name": "python3"
  },
  "language_info": {
   "codemirror_mode": {
    "name": "ipython",
    "version": 3
   },
   "file_extension": ".py",
   "mimetype": "text/x-python",
   "name": "python",
   "nbconvert_exporter": "python",
   "pygments_lexer": "ipython3",
   "version": "3.10.8"
  }
 },
 "nbformat": 4,
 "nbformat_minor": 5
}
