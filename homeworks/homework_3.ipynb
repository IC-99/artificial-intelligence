{
 "cells": [
  {
   "cell_type": "code",
   "execution_count": 1,
   "metadata": {
    "id": "3VbqqkPEeX-a"
   },
   "outputs": [],
   "source": [
    "def fac(n):\n",
    "  if(n <= 1):\n",
    "    return n\n",
    "  return n * fac(n - 1)"
   ]
  },
  {
   "cell_type": "code",
   "execution_count": 2,
   "metadata": {
    "colab": {
     "base_uri": "https://localhost:8080/"
    },
    "id": "U5LZVaxnPLw_",
    "outputId": "63251b7b-4901-4694-f939-58b6a433547a"
   },
   "outputs": [
    {
     "data": {
      "text/plain": [
       "120"
      ]
     },
     "execution_count": 2,
     "metadata": {},
     "output_type": "execute_result"
    }
   ],
   "source": [
    "fac(5)"
   ]
  },
  {
   "cell_type": "code",
   "execution_count": 3,
   "metadata": {
    "id": "oP0nAb0RPfHP"
   },
   "outputs": [],
   "source": [
    "def fib(n):\n",
    "  if(n == 1):\n",
    "    return [0, 1]\n",
    "  res = fib(n - 1)\n",
    "  res.append(res[-1] + res[-2])\n",
    "  return res"
   ]
  },
  {
   "cell_type": "code",
   "execution_count": 4,
   "metadata": {
    "colab": {
     "base_uri": "https://localhost:8080/"
    },
    "id": "7BlViM0BQKJN",
    "outputId": "3eca1713-50c4-41a4-e9fa-962b910f9528"
   },
   "outputs": [
    {
     "data": {
      "text/plain": [
       "[0, 1, 1, 2, 3, 5, 8]"
      ]
     },
     "execution_count": 4,
     "metadata": {},
     "output_type": "execute_result"
    }
   ],
   "source": [
    "fib(6)"
   ]
  },
  {
   "cell_type": "code",
   "execution_count": 5,
   "metadata": {
    "id": "PK_B3DJ6QNOH"
   },
   "outputs": [],
   "source": [
    "lista = fib(7)"
   ]
  },
  {
   "cell_type": "code",
   "execution_count": 6,
   "metadata": {
    "colab": {
     "base_uri": "https://localhost:8080/"
    },
    "id": "TjDPc0hNRcj4",
    "outputId": "3965077d-dbd0-48a5-ce63-e7d0ee8e06b9"
   },
   "outputs": [
    {
     "data": {
      "text/plain": [
       "[0, 1, 1, 2, 3, 5, 8, 13]"
      ]
     },
     "execution_count": 6,
     "metadata": {},
     "output_type": "execute_result"
    }
   ],
   "source": [
    "lista"
   ]
  },
  {
   "cell_type": "code",
   "execution_count": 7,
   "metadata": {
    "id": "x6iDf1MaRkb3"
   },
   "outputs": [],
   "source": [
    "def scambia(lista):\n",
    "  return lista[len(lista) // 2:] + lista[:len(lista) // 2]"
   ]
  },
  {
   "cell_type": "code",
   "execution_count": 8,
   "metadata": {
    "colab": {
     "base_uri": "https://localhost:8080/"
    },
    "id": "z-doXPfiRl7V",
    "outputId": "b4538d7c-3669-4dda-ff69-2cf236ce8f51"
   },
   "outputs": [
    {
     "data": {
      "text/plain": [
       "[3, 5, 8, 13, 0, 1, 1, 2]"
      ]
     },
     "execution_count": 8,
     "metadata": {},
     "output_type": "execute_result"
    }
   ],
   "source": [
    "scambia(lista)"
   ]
  },
  {
   "cell_type": "code",
   "execution_count": 9,
   "metadata": {
    "colab": {
     "base_uri": "https://localhost:8080/"
    },
    "id": "VbgxodAySTfn",
    "outputId": "b1f9ae29-8c85-40b6-c758-9b53d7d3f9d8"
   },
   "outputs": [
    {
     "data": {
      "text/plain": [
       "[[0, 1, 0, 1, 0, 1, 0, 1],\n",
       " [1, 0, 1, 0, 1, 0, 1, 0],\n",
       " [0, 1, 0, 1, 0, 1, 0, 1],\n",
       " [1, 0, 1, 0, 1, 0, 1, 0],\n",
       " [0, 1, 0, 1, 0, 1, 0, 1],\n",
       " [1, 0, 1, 0, 1, 0, 1, 0],\n",
       " [0, 1, 0, 1, 0, 1, 0, 1],\n",
       " [1, 0, 1, 0, 1, 0, 1, 0]]"
      ]
     },
     "execution_count": 9,
     "metadata": {},
     "output_type": "execute_result"
    }
   ],
   "source": [
    "s = []\n",
    "for i in range(8):\n",
    "  s.append([])\n",
    "  for j in range(8):\n",
    "    if((i + j) % 2):\n",
    "      s[i].append(1)\n",
    "    else:\n",
    "      s[i].append(0)\n",
    "s\n",
    "    "
   ]
  },
  {
   "cell_type": "code",
   "execution_count": 10,
   "metadata": {
    "id": "m2w2TCRISUKH"
   },
   "outputs": [],
   "source": [
    "lst = [6,3,4,2,6,1,4,8,5,3,7,7]"
   ]
  },
  {
   "cell_type": "code",
   "execution_count": 11,
   "metadata": {
    "id": "lrHRO6FyST5A"
   },
   "outputs": [],
   "source": [
    "lst[lst.index(min(lst))] = 0"
   ]
  },
  {
   "cell_type": "code",
   "execution_count": 12,
   "metadata": {
    "colab": {
     "base_uri": "https://localhost:8080/"
    },
    "id": "wLl6vPVxSUUv",
    "outputId": "aef6f9ea-7a05-4a36-9d77-f897ae526ab1"
   },
   "outputs": [
    {
     "data": {
      "text/plain": [
       "[6, 3, 4, 2, 6, 0, 4, 8, 5, 3, 7, 7]"
      ]
     },
     "execution_count": 12,
     "metadata": {},
     "output_type": "execute_result"
    }
   ],
   "source": [
    "lst"
   ]
  },
  {
   "cell_type": "code",
   "execution_count": 13,
   "metadata": {
    "id": "nK07AXQtVO0_"
   },
   "outputs": [],
   "source": [
    "def riempi(lst, val):\n",
    "  for i in range(len(lst)):\n",
    "    lst[i] = val"
   ]
  },
  {
   "cell_type": "code",
   "execution_count": 14,
   "metadata": {
    "id": "NaL6IEi4VO5e"
   },
   "outputs": [],
   "source": [
    "riempi(lst, 5)"
   ]
  },
  {
   "cell_type": "code",
   "execution_count": 15,
   "metadata": {
    "colab": {
     "base_uri": "https://localhost:8080/"
    },
    "id": "Tfr8c90qVO8T",
    "outputId": "0579a9f0-d9c5-49ac-aa10-944b8fe763bc"
   },
   "outputs": [
    {
     "data": {
      "text/plain": [
       "[5, 5, 5, 5, 5, 5, 5, 5, 5, 5, 5, 5]"
      ]
     },
     "execution_count": 15,
     "metadata": {},
     "output_type": "execute_result"
    }
   ],
   "source": [
    "lst"
   ]
  }
 ],
 "metadata": {
  "colab": {
   "authorship_tag": "ABX9TyPADzllY+3a0C93v05jZENE",
   "include_colab_link": true,
   "provenance": []
  },
  "kernelspec": {
   "display_name": "Python 3 (ipykernel)",
   "language": "python",
   "name": "python3"
  },
  "language_info": {
   "codemirror_mode": {
    "name": "ipython",
    "version": 3
   },
   "file_extension": ".py",
   "mimetype": "text/x-python",
   "name": "python",
   "nbconvert_exporter": "python",
   "pygments_lexer": "ipython3",
   "version": "3.9.7"
  }
 },
 "nbformat": 4,
 "nbformat_minor": 4
}
