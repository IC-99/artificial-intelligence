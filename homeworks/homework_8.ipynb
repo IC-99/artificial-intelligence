{
 "cells": [
  {
   "cell_type": "code",
   "execution_count": 26,
   "id": "e8dd0b06",
   "metadata": {},
   "outputs": [],
   "source": [
    "lst = ['A', 'B', 'C', 'D', 'E']"
   ]
  },
  {
   "cell_type": "code",
   "execution_count": 27,
   "id": "0e3d51fc",
   "metadata": {},
   "outputs": [],
   "source": [
    "def comb(lst, k, current, res):\n",
    "    for i in range(len(lst)):\n",
    "        current_new = current + list(lst[i])\n",
    "        if(k == 1):\n",
    "            res.append(current_new)\n",
    "        else:\n",
    "            comb(lst[i + 1:], k - 1, current_new, res)"
   ]
  },
  {
   "cell_type": "code",
   "execution_count": 28,
   "id": "1206ad68",
   "metadata": {},
   "outputs": [
    {
     "data": {
      "text/plain": [
       "[['A', 'B', 'C'],\n",
       " ['A', 'B', 'D'],\n",
       " ['A', 'B', 'E'],\n",
       " ['A', 'C', 'D'],\n",
       " ['A', 'C', 'E'],\n",
       " ['A', 'D', 'E'],\n",
       " ['B', 'C', 'D'],\n",
       " ['B', 'C', 'E'],\n",
       " ['B', 'D', 'E'],\n",
       " ['C', 'D', 'E']]"
      ]
     },
     "execution_count": 28,
     "metadata": {},
     "output_type": "execute_result"
    }
   ],
   "source": [
    "res = []\n",
    "comb(lst, 3, [], res)\n",
    "res"
   ]
  },
  {
   "cell_type": "code",
   "execution_count": 29,
   "id": "5d1814a0",
   "metadata": {},
   "outputs": [],
   "source": [
    "def disp(lst, k, current, res):\n",
    "    if(k == 0):\n",
    "        res.append(current)\n",
    "    else:\n",
    "        for i in range(len(lst)):\n",
    "            current_new = current + list(lst[i])\n",
    "            disp(lst, k - 1, current_new, res)"
   ]
  },
  {
   "cell_type": "code",
   "execution_count": 30,
   "id": "08ccf8ce",
   "metadata": {},
   "outputs": [
    {
     "data": {
      "text/plain": [
       "[['A', 'A', 'A'],\n",
       " ['A', 'A', 'B'],\n",
       " ['A', 'A', 'C'],\n",
       " ['A', 'A', 'D'],\n",
       " ['A', 'A', 'E'],\n",
       " ['A', 'B', 'A'],\n",
       " ['A', 'B', 'B'],\n",
       " ['A', 'B', 'C'],\n",
       " ['A', 'B', 'D'],\n",
       " ['A', 'B', 'E'],\n",
       " ['A', 'C', 'A'],\n",
       " ['A', 'C', 'B'],\n",
       " ['A', 'C', 'C'],\n",
       " ['A', 'C', 'D'],\n",
       " ['A', 'C', 'E'],\n",
       " ['A', 'D', 'A'],\n",
       " ['A', 'D', 'B'],\n",
       " ['A', 'D', 'C'],\n",
       " ['A', 'D', 'D'],\n",
       " ['A', 'D', 'E'],\n",
       " ['A', 'E', 'A'],\n",
       " ['A', 'E', 'B'],\n",
       " ['A', 'E', 'C'],\n",
       " ['A', 'E', 'D'],\n",
       " ['A', 'E', 'E'],\n",
       " ['B', 'A', 'A'],\n",
       " ['B', 'A', 'B'],\n",
       " ['B', 'A', 'C'],\n",
       " ['B', 'A', 'D'],\n",
       " ['B', 'A', 'E'],\n",
       " ['B', 'B', 'A'],\n",
       " ['B', 'B', 'B'],\n",
       " ['B', 'B', 'C'],\n",
       " ['B', 'B', 'D'],\n",
       " ['B', 'B', 'E'],\n",
       " ['B', 'C', 'A'],\n",
       " ['B', 'C', 'B'],\n",
       " ['B', 'C', 'C'],\n",
       " ['B', 'C', 'D'],\n",
       " ['B', 'C', 'E'],\n",
       " ['B', 'D', 'A'],\n",
       " ['B', 'D', 'B'],\n",
       " ['B', 'D', 'C'],\n",
       " ['B', 'D', 'D'],\n",
       " ['B', 'D', 'E'],\n",
       " ['B', 'E', 'A'],\n",
       " ['B', 'E', 'B'],\n",
       " ['B', 'E', 'C'],\n",
       " ['B', 'E', 'D'],\n",
       " ['B', 'E', 'E'],\n",
       " ['C', 'A', 'A'],\n",
       " ['C', 'A', 'B'],\n",
       " ['C', 'A', 'C'],\n",
       " ['C', 'A', 'D'],\n",
       " ['C', 'A', 'E'],\n",
       " ['C', 'B', 'A'],\n",
       " ['C', 'B', 'B'],\n",
       " ['C', 'B', 'C'],\n",
       " ['C', 'B', 'D'],\n",
       " ['C', 'B', 'E'],\n",
       " ['C', 'C', 'A'],\n",
       " ['C', 'C', 'B'],\n",
       " ['C', 'C', 'C'],\n",
       " ['C', 'C', 'D'],\n",
       " ['C', 'C', 'E'],\n",
       " ['C', 'D', 'A'],\n",
       " ['C', 'D', 'B'],\n",
       " ['C', 'D', 'C'],\n",
       " ['C', 'D', 'D'],\n",
       " ['C', 'D', 'E'],\n",
       " ['C', 'E', 'A'],\n",
       " ['C', 'E', 'B'],\n",
       " ['C', 'E', 'C'],\n",
       " ['C', 'E', 'D'],\n",
       " ['C', 'E', 'E'],\n",
       " ['D', 'A', 'A'],\n",
       " ['D', 'A', 'B'],\n",
       " ['D', 'A', 'C'],\n",
       " ['D', 'A', 'D'],\n",
       " ['D', 'A', 'E'],\n",
       " ['D', 'B', 'A'],\n",
       " ['D', 'B', 'B'],\n",
       " ['D', 'B', 'C'],\n",
       " ['D', 'B', 'D'],\n",
       " ['D', 'B', 'E'],\n",
       " ['D', 'C', 'A'],\n",
       " ['D', 'C', 'B'],\n",
       " ['D', 'C', 'C'],\n",
       " ['D', 'C', 'D'],\n",
       " ['D', 'C', 'E'],\n",
       " ['D', 'D', 'A'],\n",
       " ['D', 'D', 'B'],\n",
       " ['D', 'D', 'C'],\n",
       " ['D', 'D', 'D'],\n",
       " ['D', 'D', 'E'],\n",
       " ['D', 'E', 'A'],\n",
       " ['D', 'E', 'B'],\n",
       " ['D', 'E', 'C'],\n",
       " ['D', 'E', 'D'],\n",
       " ['D', 'E', 'E'],\n",
       " ['E', 'A', 'A'],\n",
       " ['E', 'A', 'B'],\n",
       " ['E', 'A', 'C'],\n",
       " ['E', 'A', 'D'],\n",
       " ['E', 'A', 'E'],\n",
       " ['E', 'B', 'A'],\n",
       " ['E', 'B', 'B'],\n",
       " ['E', 'B', 'C'],\n",
       " ['E', 'B', 'D'],\n",
       " ['E', 'B', 'E'],\n",
       " ['E', 'C', 'A'],\n",
       " ['E', 'C', 'B'],\n",
       " ['E', 'C', 'C'],\n",
       " ['E', 'C', 'D'],\n",
       " ['E', 'C', 'E'],\n",
       " ['E', 'D', 'A'],\n",
       " ['E', 'D', 'B'],\n",
       " ['E', 'D', 'C'],\n",
       " ['E', 'D', 'D'],\n",
       " ['E', 'D', 'E'],\n",
       " ['E', 'E', 'A'],\n",
       " ['E', 'E', 'B'],\n",
       " ['E', 'E', 'C'],\n",
       " ['E', 'E', 'D'],\n",
       " ['E', 'E', 'E']]"
      ]
     },
     "execution_count": 30,
     "metadata": {},
     "output_type": "execute_result"
    }
   ],
   "source": [
    "res = []\n",
    "disp(lst, 3, [], res)\n",
    "res"
   ]
  },
  {
   "cell_type": "code",
   "execution_count": 31,
   "id": "cddb298b",
   "metadata": {},
   "outputs": [
    {
     "data": {
      "text/plain": [
       "125"
      ]
     },
     "execution_count": 31,
     "metadata": {},
     "output_type": "execute_result"
    }
   ],
   "source": [
    "len(res)"
   ]
  },
  {
   "cell_type": "code",
   "execution_count": 21,
   "id": "a6ec0e53",
   "metadata": {},
   "outputs": [],
   "source": [
    "def perm(lst, current, res):\n",
    "    n = len(lst)\n",
    "    if n == 0:\n",
    "        res.append(current)\n",
    "    else:\n",
    "        for i in range(n):\n",
    "            lst_new = lst[:i] + lst[i + 1:]\n",
    "            current_new = current + list(lst[i])\n",
    "            perm(lst_new, current_new, res)"
   ]
  },
  {
   "cell_type": "code",
   "execution_count": 22,
   "id": "2f200356",
   "metadata": {},
   "outputs": [
    {
     "data": {
      "text/plain": [
       "[['A', 'B', 'C', 'D'],\n",
       " ['A', 'B', 'D', 'C'],\n",
       " ['A', 'C', 'B', 'D'],\n",
       " ['A', 'C', 'D', 'B'],\n",
       " ['A', 'D', 'B', 'C'],\n",
       " ['A', 'D', 'C', 'B'],\n",
       " ['B', 'A', 'C', 'D'],\n",
       " ['B', 'A', 'D', 'C'],\n",
       " ['B', 'C', 'A', 'D'],\n",
       " ['B', 'C', 'D', 'A'],\n",
       " ['B', 'D', 'A', 'C'],\n",
       " ['B', 'D', 'C', 'A'],\n",
       " ['C', 'A', 'B', 'D'],\n",
       " ['C', 'A', 'D', 'B'],\n",
       " ['C', 'B', 'A', 'D'],\n",
       " ['C', 'B', 'D', 'A'],\n",
       " ['C', 'D', 'A', 'B'],\n",
       " ['C', 'D', 'B', 'A'],\n",
       " ['D', 'A', 'B', 'C'],\n",
       " ['D', 'A', 'C', 'B'],\n",
       " ['D', 'B', 'A', 'C'],\n",
       " ['D', 'B', 'C', 'A'],\n",
       " ['D', 'C', 'A', 'B'],\n",
       " ['D', 'C', 'B', 'A']]"
      ]
     },
     "execution_count": 22,
     "metadata": {},
     "output_type": "execute_result"
    }
   ],
   "source": [
    "res = []\n",
    "perm(lst, [], res)\n",
    "res"
   ]
  },
  {
   "cell_type": "code",
   "execution_count": 23,
   "id": "a325281e",
   "metadata": {},
   "outputs": [
    {
     "data": {
      "text/plain": [
       "24"
      ]
     },
     "execution_count": 23,
     "metadata": {},
     "output_type": "execute_result"
    }
   ],
   "source": [
    "len(res)"
   ]
  }
 ],
 "metadata": {
  "kernelspec": {
   "display_name": "Python 3 (ipykernel)",
   "language": "python",
   "name": "python3"
  },
  "language_info": {
   "codemirror_mode": {
    "name": "ipython",
    "version": 3
   },
   "file_extension": ".py",
   "mimetype": "text/x-python",
   "name": "python",
   "nbconvert_exporter": "python",
   "pygments_lexer": "ipython3",
   "version": "3.10.8"
  }
 },
 "nbformat": 4,
 "nbformat_minor": 5
}
