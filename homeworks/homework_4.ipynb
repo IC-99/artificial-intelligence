{
 "cells": [
  {
   "cell_type": "markdown",
   "metadata": {},
   "source": [
    "## Si richiede la individuazione e la correzione degli errori presenti"
   ]
  },
  {
   "cell_type": "code",
   "execution_count": 1,
   "metadata": {},
   "outputs": [],
   "source": [
    "class Node:\n",
    "    data = ''\n",
    "    next = None\n",
    "    \n",
    "    def __init__(self, data, next):\n",
    "        self.data = data\n",
    "        self.next = next"
   ]
  },
  {
   "cell_type": "code",
   "execution_count": 2,
   "metadata": {},
   "outputs": [],
   "source": [
    "class SinglyLinkedList:\n",
    "#    __head = None\n",
    "#    __tail = None\n",
    "    \n",
    "    def __init__(self):\n",
    "        self.__head = None\n",
    "        self.__tail = None\n",
    "        \n",
    "    def append(self, newNode):\n",
    "        newNode.next = None\n",
    "        if self.__head == None:          # se la lista è vuota ...\n",
    "            self.__head = newNode\n",
    "            self.__tail = newNode\n",
    "        else:                            # altrimenti ...\n",
    "            self.__tail.next = newNode\n",
    "            self.__tail = newNode\n",
    "        \n",
    "    def insert_head(self, newNode):\n",
    "        if self.__head == None:          # se la lista è vuota ...\n",
    "            self.__head = newNode\n",
    "            self.__tail = newNode\n",
    "            newNode.next = None\n",
    "        else:                            # altrimenti ...\n",
    "            newNode.next = self.__head\n",
    "            self.__head = newNode\n",
    "        \n",
    "    def insert_position(self, insertPosition, newNode):\n",
    "        p = self.__head\n",
    "        i = 0\n",
    "        # Spostiamo il puntatore p nella posizione di inserimento\n",
    "        while p != None and i < insertPosition - 1: \n",
    "            p = p.next\n",
    "            i = i + 1\n",
    "        newNode.next = p.next\n",
    "        p.next = newNode\n",
    "        \n",
    "    def delete(self, deletePosition):\n",
    "        p = self.__head\n",
    "        if p != None:\n",
    "            if deletePosition == 0:\n",
    "                self.__head = p.next\n",
    "                p.next = None\n",
    "            else:        \n",
    "                i = 0\n",
    "                # Spostiamo il puntatore sul nodo immediatamente precedente \n",
    "                # a quello che vogliamo rimuovere\n",
    "                while p.next != None and i < (deletePosition - 1):\n",
    "                    p = p.next\n",
    "                    i += 1\n",
    "                q = p.next\n",
    "                p.next = q.next\n",
    "                q.next = None\n",
    "        else:\n",
    "            print('Lista vuota')\n",
    "            \n",
    "    def clear_list(self):\n",
    "        self.__head = None\n",
    "        self.__tail = None\n",
    "               \n",
    "    @property\n",
    "    def head(self):\n",
    "        return self.__head"
   ]
  },
  {
   "cell_type": "code",
   "execution_count": 3,
   "metadata": {},
   "outputs": [],
   "source": [
    "def stampa_lista(node):\n",
    "    p = node\n",
    "    while p != None:\n",
    "        data = p.data\n",
    "        print(data, '->', end = ' ')\n",
    "        p = p.next\n",
    "    print('Fine Lista')"
   ]
  },
  {
   "cell_type": "code",
   "execution_count": 4,
   "metadata": {},
   "outputs": [],
   "source": [
    "linkedlist = SinglyLinkedList()"
   ]
  },
  {
   "cell_type": "code",
   "execution_count": 5,
   "metadata": {},
   "outputs": [
    {
     "name": "stdout",
     "output_type": "stream",
     "text": [
      "Fine Lista\n"
     ]
    }
   ],
   "source": [
    "# stampiamo la lista (che è ancora vuota)\n",
    "stampa_lista(linkedlist.head)"
   ]
  },
  {
   "cell_type": "code",
   "execution_count": 6,
   "metadata": {},
   "outputs": [],
   "source": [
    "# popoliamo la lista linkedlist con vari nodi \n",
    "linkedlist.append(Node('A', None))\n",
    "linkedlist.append(Node('B', None))\n",
    "linkedlist.append(Node('C', None))\n",
    "linkedlist.append(Node('D', None))\n",
    "linkedlist.append(Node('B', None))"
   ]
  },
  {
   "cell_type": "code",
   "execution_count": 7,
   "metadata": {},
   "outputs": [
    {
     "name": "stdout",
     "output_type": "stream",
     "text": [
      "A -> B -> C -> D -> B -> Fine Lista\n"
     ]
    }
   ],
   "source": [
    "# stampiamo la lista\n",
    "stampa_lista(linkedlist.head)"
   ]
  },
  {
   "cell_type": "code",
   "execution_count": 8,
   "metadata": {},
   "outputs": [],
   "source": [
    "# azzeriamo la lista\n",
    "linkedlist.clear_list()"
   ]
  },
  {
   "cell_type": "code",
   "execution_count": 9,
   "metadata": {},
   "outputs": [
    {
     "name": "stdout",
     "output_type": "stream",
     "text": [
      "Fine Lista\n"
     ]
    }
   ],
   "source": [
    "# verifichiamo che la lista sia vuota\n",
    "stampa_lista(linkedlist.head)"
   ]
  },
  {
   "cell_type": "code",
   "execution_count": 10,
   "metadata": {},
   "outputs": [],
   "source": [
    "# definiamo alcuni nodi come istanze della classe Node\n",
    "n1 = Node('A', None)\n",
    "n2 = Node('B', None)\n",
    "n3 = Node('C', None)\n",
    "n4 = Node('D', None)\n",
    "n5 = Node('B', None)"
   ]
  },
  {
   "cell_type": "code",
   "execution_count": 11,
   "metadata": {},
   "outputs": [],
   "source": [
    "# popoliamo la lista linkedlist con i suddetti nodi\n",
    "linkedlist.append(n1)\n",
    "linkedlist.append(n2)\n",
    "linkedlist.append(n3)\n",
    "linkedlist.append(n4)\n",
    "linkedlist.append(n5)"
   ]
  },
  {
   "cell_type": "code",
   "execution_count": 12,
   "metadata": {},
   "outputs": [
    {
     "name": "stdout",
     "output_type": "stream",
     "text": [
      "A -> B -> C -> D -> B -> Fine Lista\n"
     ]
    }
   ],
   "source": [
    "# stampiamo la lista (attenzione: nella stampa si manifesta un errore commesso in precedenza)\n",
    "stampa_lista(linkedlist.head)"
   ]
  }
 ],
 "metadata": {
  "kernelspec": {
   "display_name": "Python 3 (ipykernel)",
   "language": "python",
   "name": "python3"
  },
  "language_info": {
   "codemirror_mode": {
    "name": "ipython",
    "version": 3
   },
   "file_extension": ".py",
   "mimetype": "text/x-python",
   "name": "python",
   "nbconvert_exporter": "python",
   "pygments_lexer": "ipython3",
   "version": "3.9.7"
  }
 },
 "nbformat": 4,
 "nbformat_minor": 2
}
