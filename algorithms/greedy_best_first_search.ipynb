{
 "cells": [
  {
   "cell_type": "code",
   "execution_count": 6,
   "id": "c44d74b8",
   "metadata": {},
   "outputs": [],
   "source": [
    "# connessioni tra città\n",
    "\n",
    "connections = {}\n",
    "\n",
    "connections['Arad'] = {'Sibiu', 'Timisoara', 'Zerind'}\n",
    "connections['Bucarest'] = {'Fagaras', 'Giurgiu', 'Pitesti', 'Urziceni'}\n",
    "connections['Craiova'] = {'Drobeta', 'Pitesti', 'Rimnicu Vilcea'}\n",
    "connections['Drobeta'] = {'Craiova', 'Mehadia'}\n",
    "connections['Eforie'] = {'Hirsova'}\n",
    "connections['Fagaras'] = {'Bucarest', 'Sibiu'}\n",
    "connections['Giurgiu'] = {'Bucarest'}\n",
    "connections['Hirsova'] = {'Eforie', 'Urziceni'}\n",
    "connections['Iasi'] = {'Neamt', 'Vaslui'}\n",
    "connections['Lugoj'] = {'Mehadia', 'Timisoara'}\n",
    "connections['Mehadia'] = {'Drobeta', 'Lugoj'}\n",
    "connections['Neamt'] = {'Iasi'}\n",
    "connections['Oradea'] = {'Sibiu', 'Zerind'}\n",
    "connections['Pitesti'] = {'Bucarest', 'Craiova', 'Rimnicu Vilcea'}\n",
    "connections['Rimnicu Vilcea'] = {'Craiova', 'Pitesti', 'Sibiu'}\n",
    "connections['Sibiu'] = {'Arad', 'Fagaras', 'Oradea', 'Rimnicu Vilcea'}\n",
    "connections['Timisoara'] = {'Arad', 'Lugoj'}\n",
    "connections['Urziceni'] = {'Bucarest', 'Hirsova', 'Vaslui'}\n",
    "connections['Vaslui'] = {'Iasi', 'Urziceni'}\n",
    "connections['Zerind'] = {'Arad', 'Oradea'}"
   ]
  },
  {
   "cell_type": "code",
   "execution_count": 7,
   "id": "09b293ac",
   "metadata": {},
   "outputs": [],
   "source": [
    "# distanza in linea d'aria tra ogni città e l'obiettivo 'Bucarest'\n",
    "\n",
    "h = {}\n",
    "\n",
    "h['Arad'] = 366\n",
    "h['Bucarest'] = 0\n",
    "h['Craiova'] = 160\n",
    "h['Drobeta'] = 242\n",
    "h['Eforie'] = 161\n",
    "h['Fagaras'] = 176\n",
    "h['Giurgiu'] = 77\n",
    "h['Hirsova'] = 151\n",
    "h['Iasi'] = 226\n",
    "h['Lugoj'] = 244\n",
    "h['Mehadia'] = 241\n",
    "h['Neamt'] = 234\n",
    "h['Oradea'] = 380\n",
    "h['Pitesti'] = 100\n",
    "h['Rimnicu Vilcea'] = 193\n",
    "h['Sibiu'] = 253\n",
    "h['Timisoara'] = 329\n",
    "h['Urziceni'] = 80\n",
    "h['Vaslui'] = 199\n",
    "h['Zerind'] = 374"
   ]
  },
  {
   "cell_type": "code",
   "execution_count": 8,
   "id": "a7c52433",
   "metadata": {},
   "outputs": [],
   "source": [
    "class Node:\n",
    "    \n",
    "    def __init__(self, state, parent, h):\n",
    "        self.state = state\n",
    "        self.depth = 0\n",
    "        self.children = []\n",
    "        self.parent = parent\n",
    "        self.heuristic = h\n",
    "        \n",
    "        \n",
    "    def addChild(self, childNode):\n",
    "        self.children.append(childNode)\n",
    "        childNode.parent = self\n",
    "        childNode.depth = self.depth + 1\n",
    "        \n",
    "    \n",
    "    def printPath(self):\n",
    "        if self.parent != None:\n",
    "            self.parent.printPath()\n",
    "        print(\"-> \", self.state.name)"
   ]
  },
  {
   "cell_type": "code",
   "execution_count": 9,
   "id": "5b504801",
   "metadata": {},
   "outputs": [],
   "source": [
    "class State:\n",
    "    \n",
    "    def __init__(self, name = None):\n",
    "        if name == None:\n",
    "            self.name = self.getInitialState()   # crea lo stato iniziale\n",
    "        else:\n",
    "            self.name = name\n",
    "            \n",
    "    def getInitialState(state):\n",
    "        initialState = 'Arad'\n",
    "        return initialState\n",
    "    \n",
    "    def successorFunction(self):\n",
    "        return connections[self.name]\n",
    "    \n",
    "    def checkGoalState(self):\n",
    "        return self.name == 'Bucarest'"
   ]
  },
  {
   "cell_type": "code",
   "execution_count": 10,
   "id": "2d9737d7",
   "metadata": {},
   "outputs": [],
   "source": [
    "import queue\n",
    "\n",
    "def greedy_best_first_search():\n",
    "\n",
    "    fringe = queue.PriorityQueue()\n",
    "    visited = []\n",
    "    \n",
    "    initialState = State()\n",
    "    euristica = h[initialState.name]  \n",
    "    \n",
    "    root = Node(initialState, None, euristica)\n",
    "       \n",
    "    fringe.put((root.heuristic, root))\n",
    "    \n",
    "    while not fringe.empty():\n",
    "\n",
    "        _, currentNode = fringe.get()\n",
    "        print(\"-- dequeue --\", currentNode.state.name)\n",
    "        \n",
    "        visited.append(currentNode.state.name)\n",
    "        \n",
    "        if currentNode.state.checkGoalState():\n",
    "            print(\"Stato obiettivo raggiunto\")          \n",
    "            print(\"----------------------\")\n",
    "            print(\"Soluzione:\")\n",
    "            currentNode.printPath()\n",
    "            break\n",
    "            \n",
    "        for childState in currentNode.state.successorFunction():\n",
    "            euristica = h[childState]\n",
    "            childNode = Node(State(childState), currentNode, euristica)  \n",
    "            \n",
    "            if childNode.state.name not in visited:\n",
    "                \n",
    "                currentNode.addChild(childNode)\n",
    "                fringe.put((childNode.heuristic, childNode))"
   ]
  },
  {
   "cell_type": "code",
   "execution_count": 11,
   "id": "2c35476e",
   "metadata": {},
   "outputs": [
    {
     "name": "stdout",
     "output_type": "stream",
     "text": [
      "-- dequeue -- Arad\n",
      "-- dequeue -- Sibiu\n",
      "-- dequeue -- Fagaras\n",
      "-- dequeue -- Bucarest\n",
      "Stato obiettivo raggiunto\n",
      "----------------------\n",
      "Soluzione:\n",
      "->  Arad\n",
      "->  Sibiu\n",
      "->  Fagaras\n",
      "->  Bucarest\n"
     ]
    }
   ],
   "source": [
    "greedy_best_first_search()"
   ]
  }
 ],
 "metadata": {
  "kernelspec": {
   "display_name": "Python 3 (ipykernel)",
   "language": "python",
   "name": "python3"
  },
  "language_info": {
   "codemirror_mode": {
    "name": "ipython",
    "version": 3
   },
   "file_extension": ".py",
   "mimetype": "text/x-python",
   "name": "python",
   "nbconvert_exporter": "python",
   "pygments_lexer": "ipython3",
   "version": "3.10.8"
  }
 },
 "nbformat": 4,
 "nbformat_minor": 5
}
