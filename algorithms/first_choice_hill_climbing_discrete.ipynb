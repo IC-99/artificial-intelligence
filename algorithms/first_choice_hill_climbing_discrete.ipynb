{
 "cells": [
  {
   "cell_type": "code",
   "execution_count": 2,
   "metadata": {},
   "outputs": [],
   "source": [
    "import random\n",
    "import string\n",
    "import numpy\n",
    "import math"
   ]
  },
  {
   "cell_type": "code",
   "execution_count": 3,
   "metadata": {},
   "outputs": [],
   "source": [
    "def generate_random_string(length = 8):\n",
    "    return [random.choice(string.printable) for _ in range(length)]"
   ]
  },
  {
   "cell_type": "code",
   "execution_count": 4,
   "metadata": {},
   "outputs": [],
   "source": [
    "def evaluate(solution):\n",
    "    target = list('Roma Tre')\n",
    "    diff = 0\n",
    "    for i in range(len(target)):\n",
    "        s = solution[i]\n",
    "        t = target[i]\n",
    "        delta = abs(ord(s) - ord(t))\n",
    "        diff = diff + delta\n",
    "    return diff"
   ]
  },
  {
   "cell_type": "code",
   "execution_count": 5,
   "metadata": {},
   "outputs": [],
   "source": [
    "def tweak(solution):\n",
    "    index = random.randint(0, len(solution) - 1)\n",
    "    solution[index] = random.choice(string.printable)"
   ]
  },
  {
   "cell_type": "code",
   "execution_count": 11,
   "metadata": {},
   "outputs": [],
   "source": [
    "def ricerca_stringa(stringa_iniziale):\n",
    "    \n",
    "    current_state = stringa_iniziale\n",
    "    current_eval = evaluate(current_state)\n",
    "    i = 0\n",
    "    while True:\n",
    "        \n",
    "        if current_eval == 0:\n",
    "            break\n",
    "        \n",
    "        next_state = list(current_state)       #  scelta random\n",
    "        tweak(next_state)                      #  del successore\n",
    "    \n",
    "        next_state_eval = evaluate(next_state) # valutazione del successore scelto\n",
    "        \n",
    "        if next_state_eval < current_eval:     # se next è migliore ...\n",
    "            current_state = next_state         # ... esso diventa\n",
    "            current_eval = next_state_eval     # il nuovo nodo corrente\n",
    "            print(i, '-> Punteggio attuale:', current_eval, 'Stringa:', \"\".join(current_state))\n",
    "        \n",
    "        i += 1\n",
    "                 "
   ]
  },
  {
   "cell_type": "code",
   "execution_count": 7,
   "metadata": {},
   "outputs": [
    {
     "name": "stdout",
     "output_type": "stream",
     "text": [
      "['7', 'S', '\\\\', '\"', '2', '%', 'V', '2']\n"
     ]
    }
   ],
   "source": [
    "stringa_iniziale = generate_random_string()\n",
    "print(stringa_iniziale)"
   ]
  },
  {
   "cell_type": "code",
   "execution_count": 12,
   "metadata": {},
   "outputs": [
    {
     "name": "stdout",
     "output_type": "stream",
     "text": [
      "2 -> Punteggio attuale: 253 Stringa: 7S\\\"2%p2\n",
      "6 -> Punteggio attuale: 229 Stringa: 7S\\\"2=p2\n",
      "7 -> Punteggio attuale: 191 Stringa: 7S\\\"2=pr\n",
      "9 -> Punteggio attuale: 190 Stringa: 8S\\\"2=pr\n",
      "10 -> Punteggio attuale: 167 Stringa: 8j\\\"2=pr\n",
      "11 -> Punteggio attuale: 125 Stringa: 8j\\L2=pr\n",
      "20 -> Punteggio attuale: 112 Stringa: 8jiL2=pr\n",
      "21 -> Punteggio attuale: 105 Stringa: 8jiL2=p_\n",
      "24 -> Punteggio attuale: 102 Stringa: 8jlL2=p_\n",
      "30 -> Punteggio attuale: 88 Stringa: 8jlh2=p_\n",
      "44 -> Punteggio attuale: 86 Stringa: 8jlf2=p_\n",
      "46 -> Punteggio attuale: 63 Stringa: Ujlf2=p_\n",
      "50 -> Punteggio attuale: 46 Stringa: Ujlf2Np_\n",
      "68 -> Punteggio attuale: 41 Stringa: Ujlf2Npf\n",
      "115 -> Punteggio attuale: 40 Stringa: Ujl]2Npf\n",
      "187 -> Punteggio attuale: 36 Stringa: Unl]2Npf\n",
      "193 -> Punteggio attuale: 21 Stringa: Unl]#Npf\n",
      "201 -> Punteggio attuale: 19 Stringa: Unl]!Npf\n",
      "250 -> Punteggio attuale: 16 Stringa: Unl`!Npf\n",
      "289 -> Punteggio attuale: 15 Stringa: Unl`!Npe\n",
      "308 -> Punteggio attuale: 14 Stringa: Unl`!Ype\n",
      "350 -> Punteggio attuale: 11 Stringa: Unl`!Vpe\n",
      "389 -> Punteggio attuale: 9 Stringa: Unl`!Vre\n",
      "549 -> Punteggio attuale: 8 Stringa: Unm`!Vre\n",
      "566 -> Punteggio attuale: 7 Stringa: Uom`!Vre\n",
      "632 -> Punteggio attuale: 5 Stringa: Som`!Vre\n",
      "665 -> Punteggio attuale: 4 Stringa: Som`!Ure\n",
      "1024 -> Punteggio attuale: 3 Stringa: Som`!Tre\n",
      "1214 -> Punteggio attuale: 2 Stringa: Rom`!Tre\n",
      "1433 -> Punteggio attuale: 1 Stringa: Rom` Tre\n",
      "4035 -> Punteggio attuale: 0 Stringa: Roma Tre\n"
     ]
    }
   ],
   "source": [
    "ricerca_stringa(stringa_iniziale)"
   ]
  },
  {
   "cell_type": "code",
   "execution_count": 13,
   "metadata": {},
   "outputs": [
    {
     "data": {
      "text/plain": [
       "'dove vai'"
      ]
     },
     "execution_count": 13,
     "metadata": {},
     "output_type": "execute_result"
    }
   ],
   "source": [
    "stringa_iniziale = 'dove vai'\n",
    "stringa_iniziale"
   ]
  },
  {
   "cell_type": "code",
   "execution_count": 14,
   "metadata": {},
   "outputs": [
    {
     "name": "stdout",
     "output_type": "stream",
     "text": [
      "7 -> Punteggio attuale: 81 Stringa: dove 7ai\n",
      "13 -> Punteggio attuale: 79 Stringa: dove 7ci\n",
      "16 -> Punteggio attuale: 75 Stringa: dohe 7ci\n",
      "19 -> Punteggio attuale: 64 Stringa: Kohe 7ci\n",
      "26 -> Punteggio attuale: 61 Stringa: Kohe :ci\n",
      "31 -> Punteggio attuale: 52 Stringa: Kohe :li\n",
      "32 -> Punteggio attuale: 43 Stringa: Kohe eli\n",
      "37 -> Punteggio attuale: 42 Stringa: Kohe ewi\n",
      "59 -> Punteggio attuale: 39 Stringa: Kohe Fwi\n",
      "74 -> Punteggio attuale: 34 Stringa: Kohe Fri\n",
      "85 -> Punteggio attuale: 30 Stringa: Kohe Jri\n",
      "104 -> Punteggio attuale: 23 Stringa: Kohe Qri\n",
      "125 -> Punteggio attuale: 22 Stringa: Kohe Rri\n",
      "157 -> Punteggio attuale: 18 Stringa: Kone Rri\n",
      "172 -> Punteggio attuale: 17 Stringa: Kon^ Rri\n",
      "212 -> Punteggio attuale: 14 Stringa: Non^ Rri\n",
      "282 -> Punteggio attuale: 13 Stringa: Non^ Rrb\n",
      "538 -> Punteggio attuale: 11 Stringa: Pon^ Rrb\n",
      "564 -> Punteggio attuale: 9 Stringa: Pon^ Rrd\n",
      "576 -> Punteggio attuale: 8 Stringa: Pon_ Rrd\n",
      "795 -> Punteggio attuale: 6 Stringa: Pona Rrd\n",
      "1047 -> Punteggio attuale: 5 Stringa: Sona Rrd\n",
      "1210 -> Punteggio attuale: 4 Stringa: Rona Rrd\n",
      "1229 -> Punteggio attuale: 3 Stringa: Rona Urd\n",
      "1232 -> Punteggio attuale: 2 Stringa: Roma Urd\n",
      "1551 -> Punteggio attuale: 1 Stringa: Roma Ure\n",
      "1950 -> Punteggio attuale: 0 Stringa: Roma Tre\n"
     ]
    }
   ],
   "source": [
    "ricerca_stringa(stringa_iniziale)"
   ]
  }
 ],
 "metadata": {
  "kernelspec": {
   "display_name": "Python 3",
   "language": "python",
   "name": "python3"
  },
  "language_info": {
   "codemirror_mode": {
    "name": "ipython",
    "version": 3
   },
   "file_extension": ".py",
   "mimetype": "text/x-python",
   "name": "python",
   "nbconvert_exporter": "python",
   "pygments_lexer": "ipython3",
   "version": "3.10.8"
  },
  "vscode": {
   "interpreter": {
    "hash": "c149fc0de0885611b468a0cc37d69aa5a86a4dd00b4e9702a10e3c4cb95c4c6c"
   }
  }
 },
 "nbformat": 4,
 "nbformat_minor": 2
}
