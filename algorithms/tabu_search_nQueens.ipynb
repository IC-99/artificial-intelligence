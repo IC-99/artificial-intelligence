{
 "cells": [
  {
   "cell_type": "code",
   "execution_count": 1,
   "id": "2e99192a",
   "metadata": {},
   "outputs": [],
   "source": [
    "import random\n",
    "import numpy as np\n",
    "import copy"
   ]
  },
  {
   "cell_type": "code",
   "execution_count": 2,
   "id": "b1d13dae",
   "metadata": {},
   "outputs": [],
   "source": [
    "def inizializza(sol):\n",
    "    \n",
    "    # shake shake shake\n",
    "    for c in range(0,DIMENSIONE-1):\n",
    "        sol = tweak(sol)\n",
    "    return sol\n",
    "\n",
    "\n",
    "def tweak(sol):\n",
    "    \n",
    "    sol_copy = np.copy(sol)\n",
    "    \n",
    "    # scegli random due colonne distinte\n",
    "    x = random.randint(0,DIMENSIONE-1)\n",
    "    y = random.randint(0,DIMENSIONE-1)\n",
    "    while x==y:\n",
    "        y = random.randint(0,DIMENSIONE-1)\n",
    "        \n",
    "    # scambia le due colonne\n",
    "    temp = sol_copy[y]\n",
    "    sol_copy[y] = sol_copy[x] \n",
    "    sol_copy[x] = temp\n",
    "    \n",
    "    return sol_copy"
   ]
  },
  {
   "cell_type": "code",
   "execution_count": 3,
   "id": "33138ba5",
   "metadata": {},
   "outputs": [],
   "source": [
    "def generazione_successori(stato): \n",
    "    \"\"\"\"\n",
    "    genera la lista ordinata di successori di uno stato\n",
    "    \"\"\"\"\"\n",
    "        \n",
    "    lista = []\n",
    "    t = len(stato)\n",
    "    \n",
    "    for i in range(0, t-1):\n",
    "        for j in range(i+1, t):\n",
    "            buffer = copy.deepcopy(stato)\n",
    "            temp = buffer[i]\n",
    "            buffer[i] = buffer[j]\n",
    "            buffer[j] = temp\n",
    "            eval_successore = eval_stato(buffer)\n",
    "            lista.append((buffer, eval_successore, (stato[i], stato[j])))  \n",
    "\n",
    "    lista.sort(key=lambda x: x[1])  # ordiniamo i successori in base alla loro valutazione eval_stato\n",
    "    return(lista)"
   ]
  },
  {
   "cell_type": "code",
   "execution_count": 4,
   "id": "8f78d609",
   "metadata": {},
   "outputs": [],
   "source": [
    "def eval_stato(stato):\n",
    "    \n",
    "    # definizione della scacchiera N x N\n",
    "    board  = [[0] * DIMENSIONE for i in range(DIMENSIONE)] \n",
    "    \n",
    "    # inserimento delle regine ('Q') nelle loro posizioni sulla scacchiera\n",
    "    for i in range(0,DIMENSIONE):\n",
    "        board[stato[i]][i]='Q'\n",
    "        \n",
    "    # spostamenti possibili sulla scacchiera\n",
    "    dx = [-1,1,-1,1]\n",
    "    dy = [-1,1,1,-1]\n",
    "    \n",
    "    # inizializzazione numero di attacchi (diretti o indiretti)\n",
    "    conflitti = 0\n",
    "\n",
    "    for i in range(0,DIMENSIONE):\n",
    "        x=stato[i]\n",
    "        y=i\n",
    "        \n",
    "        # verifica attacchi sulle diagonali       \n",
    "        for j in range(0,4):\n",
    "            tempx = x\n",
    "            tempy = y\n",
    "            while (True):\n",
    "                tempx = tempx + dx[j]           # spostamento sull'asse x\n",
    "                tempy = tempy + dy[j]           # spostamento sull'asse y\n",
    "                if ((tempx < 0) or \n",
    "                    (tempx >= DIMENSIONE) or\n",
    "                    (tempy < 0) or \n",
    "                    (tempy >= DIMENSIONE)):\n",
    "                    break                       # si esce dal ciclo while se lo spostamento va fuori la scacchiera\n",
    "                if (board[tempx][tempy]=='Q'):\n",
    "                    conflitti = conflitti + 1   # aggiornamento numero di attacchi\n",
    "    return conflitti"
   ]
  },
  {
   "cell_type": "code",
   "execution_count": 5,
   "id": "d8c99967",
   "metadata": {},
   "outputs": [],
   "source": [
    "def tabu_test(sequenza, tabu_list):    # è True se una mossa NON è presente nella tabu_list\n",
    "    \n",
    "    a, b = sequenza[2]\n",
    "    if ((a, b) in tabu_list or (b, a) in tabu_list):\n",
    "        assente = False\n",
    "    else:\n",
    "        assente = True\n",
    "    return(assente)"
   ]
  },
  {
   "cell_type": "code",
   "execution_count": 6,
   "id": "c5ebc713",
   "metadata": {},
   "outputs": [],
   "source": [
    "def stampa(sol):\n",
    "    \n",
    "    board = [[0] * DIMENSIONE for i in range(DIMENSIONE)] \n",
    "\n",
    "    for x in range(0,DIMENSIONE):\n",
    "        board[sol[x]][x]='Q'\n",
    "    print(\"SCACCHIERA\")\n",
    "    for x in range(0,DIMENSIONE):\n",
    "        for y in range(0,DIMENSIONE):\n",
    "            if(board[x][y]=='Q'):\n",
    "                print(\"Q   \",end=''),\n",
    "            else:\n",
    "                print(\".   \",end=''),\n",
    "        print(\"\\n\")\n",
    "    print(\"\\n\\n\")"
   ]
  },
  {
   "cell_type": "code",
   "execution_count": 7,
   "id": "e1a98e13",
   "metadata": {},
   "outputs": [],
   "source": [
    "def tabu_search(tabu_tenure):\n",
    "    \n",
    "    # impostazione stato iniziale\n",
    "    stato = list(x for x in range(DIMENSIONE))   \n",
    "    current = inizializza(stato)\n",
    "    eval_current = eval_stato(current)\n",
    "    \n",
    "    # inizializzazione best\n",
    "    best = current\n",
    "    eval_best = eval_current\n",
    "        \n",
    "    tabu_list = {}\n",
    "    neighbours = []\n",
    "        \n",
    "    cont = 0\n",
    "    \n",
    "    # while not criterio_terminazione():\n",
    "    while (cont < 100 and eval_best != 0):\n",
    "            \n",
    "        # generazione successori (stato, eval_stato, mossa) e ordinamento su eval_stato\n",
    "        lista_successori = generazione_successori(current)\n",
    "        if cont == 0:\n",
    "            l = len(lista_successori)\n",
    "            print('Numero successori: ', l, '\\n')\n",
    "            \n",
    "        # selezione successori non tabu\n",
    "        neighbours = list(filter(lambda n: tabu_test(n, tabu_list), lista_successori))\n",
    "            \n",
    "        next_state = neighbours[0][0]         # selezione del migliore dei successori\n",
    "        eval_next_state = neighbours[0][1]\n",
    "        print(\"Iterazione \", cont, ':')\n",
    "        print('next_state: ', eval_next_state)\n",
    "        delta = eval_best - eval_next_state\n",
    "        if delta > 0:\n",
    "            best = next_state                 # aggiornamento di best\n",
    "            eval_best = eval_next_state       \n",
    "        current = next_state\n",
    "        eval_current = eval_next_state\n",
    "            \n",
    "        # decremento del tabu_tenure\n",
    "        for mossa in tabu_list:\n",
    "            tabu_list[mossa] = tabu_list[mossa] - 1\n",
    "                \n",
    "        # eliminazione elementi con tenure uguale a zero \n",
    "        tabu_list = {k: tabu_list[k] for k in tabu_list if tabu_list[k]!=0}   \n",
    "  \n",
    "        # inserimento della mossa di next nella tabu_list\n",
    "        mossa_next = neighbours[0][2]\n",
    "        tabu_list[mossa_next] = tabu_tenure\n",
    "        \n",
    "        print(\"best_eval =\", eval_best,)\n",
    "        print('mossa:', mossa_next)\n",
    "        print('tabu_list:', tabu_list, '\\n') \n",
    "            \n",
    "        cont += 1\n",
    "                \n",
    "    return(best, eval_best)"
   ]
  },
  {
   "cell_type": "code",
   "execution_count": 8,
   "id": "6192cee7",
   "metadata": {},
   "outputs": [],
   "source": [
    "DIMENSIONE = 10   # dimensione dei lati della scacchiera N x N (dove N è la DIMENSIONE)"
   ]
  },
  {
   "cell_type": "code",
   "execution_count": 9,
   "id": "68de9f37",
   "metadata": {
    "scrolled": true
   },
   "outputs": [
    {
     "name": "stdout",
     "output_type": "stream",
     "text": [
      "Numero successori:  45 \n",
      "\n",
      "Iterazione  0 :\n",
      "next_state:  4\n",
      "best_eval = 4\n",
      "mossa: (4, 3)\n",
      "tabu_list: {(4, 3): 5} \n",
      "\n",
      "Iterazione  1 :\n",
      "next_state:  4\n",
      "best_eval = 4\n",
      "mossa: (0, 4)\n",
      "tabu_list: {(4, 3): 4, (0, 4): 5} \n",
      "\n",
      "Iterazione  2 :\n",
      "next_state:  2\n",
      "best_eval = 2\n",
      "mossa: (5, 2)\n",
      "tabu_list: {(4, 3): 3, (0, 4): 4, (5, 2): 5} \n",
      "\n",
      "Iterazione  3 :\n",
      "next_state:  2\n",
      "best_eval = 2\n",
      "mossa: (9, 6)\n",
      "tabu_list: {(4, 3): 2, (0, 4): 3, (5, 2): 4, (9, 6): 5} \n",
      "\n",
      "Iterazione  4 :\n",
      "next_state:  0\n",
      "best_eval = 0\n",
      "mossa: (3, 8)\n",
      "tabu_list: {(4, 3): 1, (0, 4): 2, (5, 2): 3, (9, 6): 4, (3, 8): 5} \n",
      "\n"
     ]
    }
   ],
   "source": [
    "soluzione, conflitti = tabu_search(5)"
   ]
  },
  {
   "cell_type": "code",
   "execution_count": 10,
   "id": "0fb6f8d2",
   "metadata": {},
   "outputs": [
    {
     "data": {
      "text/plain": [
       "array([4, 6, 8, 2, 7, 1, 3, 5, 0, 9])"
      ]
     },
     "execution_count": 10,
     "metadata": {},
     "output_type": "execute_result"
    }
   ],
   "source": [
    "soluzione"
   ]
  },
  {
   "cell_type": "code",
   "execution_count": 11,
   "id": "4e40ede5",
   "metadata": {},
   "outputs": [
    {
     "data": {
      "text/plain": [
       "0"
      ]
     },
     "execution_count": 11,
     "metadata": {},
     "output_type": "execute_result"
    }
   ],
   "source": [
    "conflitti"
   ]
  },
  {
   "cell_type": "code",
   "execution_count": 12,
   "id": "0eafae5b",
   "metadata": {},
   "outputs": [
    {
     "name": "stdout",
     "output_type": "stream",
     "text": [
      "SCACCHIERA\n",
      ".   .   .   .   .   .   .   .   Q   .   \n",
      "\n",
      ".   .   .   .   .   Q   .   .   .   .   \n",
      "\n",
      ".   .   .   Q   .   .   .   .   .   .   \n",
      "\n",
      ".   .   .   .   .   .   Q   .   .   .   \n",
      "\n",
      "Q   .   .   .   .   .   .   .   .   .   \n",
      "\n",
      ".   .   .   .   .   .   .   Q   .   .   \n",
      "\n",
      ".   Q   .   .   .   .   .   .   .   .   \n",
      "\n",
      ".   .   .   .   Q   .   .   .   .   .   \n",
      "\n",
      ".   .   Q   .   .   .   .   .   .   .   \n",
      "\n",
      ".   .   .   .   .   .   .   .   .   Q   \n",
      "\n",
      "\n",
      "\n",
      "\n"
     ]
    }
   ],
   "source": [
    "stampa(soluzione)"
   ]
  }
 ],
 "metadata": {
  "kernelspec": {
   "display_name": "Python 3",
   "language": "python",
   "name": "python3"
  },
  "language_info": {
   "codemirror_mode": {
    "name": "ipython",
    "version": 3
   },
   "file_extension": ".py",
   "mimetype": "text/x-python",
   "name": "python",
   "nbconvert_exporter": "python",
   "pygments_lexer": "ipython3",
   "version": "3.10.8"
  },
  "vscode": {
   "interpreter": {
    "hash": "c149fc0de0885611b468a0cc37d69aa5a86a4dd00b4e9702a10e3c4cb95c4c6c"
   }
  }
 },
 "nbformat": 4,
 "nbformat_minor": 5
}
