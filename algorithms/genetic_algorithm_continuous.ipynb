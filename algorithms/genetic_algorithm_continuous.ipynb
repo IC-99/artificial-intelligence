{
 "cells": [
  {
   "cell_type": "code",
   "execution_count": 1,
   "metadata": {},
   "outputs": [],
   "source": [
    "from numpy.random import randint\n",
    "from numpy.random import rand"
   ]
  },
  {
   "cell_type": "code",
   "execution_count": 2,
   "metadata": {},
   "outputs": [],
   "source": [
    "def decode(bounds, n_bits, bitstring): \n",
    "    decoded = list()\n",
    "    largest = 2**n_bits - 1\n",
    "    for i in range(len(bounds)):\n",
    "        # extract the substring\n",
    "        start, end = i * n_bits, (i * n_bits)+n_bits\n",
    "        substring = bitstring[start:end]\n",
    "        # convert bitstring to a string of chars \n",
    "        chars = ''.join([str(s) for s in substring]) \n",
    "        # convert string to integer\n",
    "        integer = int(chars, 2)\n",
    "        # scale integer to desired range\n",
    "        value = bounds[i][0] + (integer/largest) * (bounds[i][1] - bounds[i][0])\n",
    "        # store\n",
    "        decoded.append(value)\n",
    "    return decoded"
   ]
  },
  {
   "cell_type": "code",
   "execution_count": 3,
   "metadata": {},
   "outputs": [],
   "source": [
    "# tournament selection\n",
    "def selection(pop, scores, k=3):\n",
    "    # first random selection\n",
    "    selection_ix = randint(len(pop))\n",
    "    for ix in randint(0, len(pop), k-1):\n",
    "        # check if better (e.g. perform a tournament)\n",
    "        if scores[ix] < scores[selection_ix]:\n",
    "            selection_ix = ix\n",
    "    return pop[selection_ix]"
   ]
  },
  {
   "cell_type": "code",
   "execution_count": 4,
   "metadata": {},
   "outputs": [],
   "source": [
    "def crossover(p1, p2, r_cross):\n",
    "    # children are copies of parents by default \n",
    "    c1, c2 = p1.copy(), p2.copy()\n",
    "    # check for recombination\n",
    "    if rand() < r_cross:\n",
    "        # select crossover point that is not on the end of the string\n",
    "        pt = randint(1, len(p1)-2)\n",
    "        # perform crossover\n",
    "        c1 = p1[:pt] + p2[pt:]\n",
    "        c2 = p2[:pt] + p1[pt:]\n",
    "    return [c1, c2]"
   ]
  },
  {
   "cell_type": "code",
   "execution_count": 5,
   "metadata": {},
   "outputs": [],
   "source": [
    "# mutation operator\n",
    "def mutation(bitstring, r_mut):\n",
    "    for i in range(len(bitstring)):\n",
    "        # check for a mutation\n",
    "        if rand() < r_mut:\n",
    "            # flip the bit\n",
    "            bitstring[i] = 1 - bitstring[i]"
   ]
  },
  {
   "cell_type": "code",
   "execution_count": 6,
   "metadata": {},
   "outputs": [],
   "source": [
    "def genetic_algorithm(objective, bounds, n_bits, n_iter, n_pop, r_cross, r_mut):\n",
    "    # initial population of random bitstring\n",
    "    pop = [randint(0, 2, n_bits*len(bounds)).tolist() for _ in range(n_pop)]\n",
    "    # keep track of best solution\n",
    "    best, best_eval = 0, objective(decode(bounds, n_bits, pop[0]))\n",
    "    # enumerate generations\n",
    "    for gen in range(n_iter):\n",
    "        # decode population\n",
    "        decoded = [decode(bounds, n_bits, p) for p in pop]\n",
    "        # evaluate all candidates in the population\n",
    "        scores = [objective(d) for d in decoded]\n",
    "        # check for new best solution\n",
    "        for i in range(n_pop):\n",
    "            if scores[i] < best_eval:\n",
    "                best, best_eval = pop[i], scores[i]\n",
    "                print(\">%d, new best f(%s) = %.3f\" % (gen,  decoded[i], scores[i]))\n",
    "        # select parents\n",
    "        selected = [selection(pop, scores) for _ in range(n_pop)]\n",
    "        # create the next generation\n",
    "        children = list()\n",
    "        for i in range(0, n_pop, 2):\n",
    "            # get selected parents in pairs\n",
    "            p1, p2 = selected[i], selected[i+1]\n",
    "            # crossover and mutation\n",
    "            for c in crossover(p1, p2, r_cross):\n",
    "                # mutation\n",
    "                mutation(c, r_mut)\n",
    "                # store for next generation\n",
    "                children.append(c)\n",
    "        # replace population\n",
    "        pop = children\n",
    "    return [best, best_eval]"
   ]
  },
  {
   "attachments": {},
   "cell_type": "markdown",
   "metadata": {},
   "source": [
    "Funzione obiettivo:\n",
    "\n",
    "$$f(x,y) = x^2 + y^2$$\n",
    "\n",
    "Tale funzione ha il minimo assoluto nel punto (0, 0)"
   ]
  },
  {
   "cell_type": "code",
   "execution_count": 7,
   "metadata": {},
   "outputs": [],
   "source": [
    "def objective(x):\n",
    "    return x[0]**2.0 + x[1]**2.0"
   ]
  },
  {
   "cell_type": "code",
   "execution_count": 8,
   "metadata": {},
   "outputs": [],
   "source": [
    "# define range for input\n",
    "bounds = [[-5.0, 5.0], [-5.0, 5.0]]\n",
    "# define the total iterations\n",
    "n_iter = 100\n",
    "# bits\n",
    "n_bits = 16\n",
    "# define the population size\n",
    "n_pop = 100\n",
    "# crossover rate\n",
    "r_cross = 0.9\n",
    "# mutation rate\n",
    "r_mut = 1.0 / (float(n_bits) * len(bounds))\n"
   ]
  },
  {
   "cell_type": "code",
   "execution_count": 9,
   "metadata": {},
   "outputs": [
    {
     "name": "stdout",
     "output_type": "stream",
     "text": [
      ">0, new best f([4.217517357137407, 2.383382925154498]) = 23.468\n",
      ">0, new best f([-1.276646066987106, -1.2877851529716944]) = 3.288\n",
      ">0, new best f([-0.01411459525444414, 0.23918516823071645]) = 0.057\n",
      ">1, new best f([-0.01411459525444414, 0.23445487144274058]) = 0.055\n",
      ">2, new best f([-0.013656824597543249, 0.1628900587472346]) = 0.027\n",
      ">3, new best f([0.09941252765697683, 0.12336919203479013]) = 0.025\n",
      ">4, new best f([-0.007248035400930775, 0.094529640650034]) = 0.009\n",
      ">5, new best f([-0.02159151598382536, 0.04570077058060562]) = 0.003\n",
      ">6, new best f([-0.02159151598382536, 0.0026703288319218643]) = 0.000\n",
      ">9, new best f([-0.004806591897459356, 0.01823453116655216]) = 0.000\n",
      ">9, new best f([-0.0020599679560540096, 0.007553215838864702]) = 0.000\n",
      ">10, new best f([-0.001449607080186155, 0.007553215838864702]) = 0.000\n",
      ">11, new best f([-0.0020599679560540096, 0.00663767452506292]) = 0.000\n",
      ">12, new best f([-0.0020599679560540096, 0.005111772335393283]) = 0.000\n",
      ">14, new best f([-0.0016021972991531186, 0.005111772335393283]) = 0.000\n",
      ">14, new best f([-0.0008392462043183002, 0.004043640802624537]) = 0.000\n",
      ">16, new best f([-0.0011444266422522276, 0.0038910505836575737]) = 0.000\n",
      ">17, new best f([-0.001907377737087046, 0.0025177386129549006]) = 0.000\n",
      ">17, new best f([-0.0011444266422522276, 0.0020599679560540096]) = 0.000\n",
      ">18, new best f([-0.0011444266422522276, 0.001449607080186155]) = 0.000\n",
      ">19, new best f([-0.0006866559853513365, 7.629510948348184e-05]) = 0.000\n",
      ">20, new best f([-0.0005340657663843729, 0.0002288853284504455]) = 0.000\n",
      ">21, new best f([-0.0003814755474174092, 7.629510948348184e-05]) = 0.000\n",
      ">33, new best f([-7.629510948348184e-05, 7.629510948348184e-05]) = 0.000\n",
      "Done!\n",
      "f([-7.629510948348184e-05, 7.629510948348184e-05]) = 0.000000\n"
     ]
    }
   ],
   "source": [
    "best, score = genetic_algorithm(objective, bounds, n_bits, n_iter, n_pop, r_cross, r_mut)\n",
    "print('Done!')\n",
    "decoded = decode(bounds, n_bits, best)\n",
    "print('f(%s) = %f' % (decoded, score))"
   ]
  }
 ],
 "metadata": {
  "kernelspec": {
   "display_name": "Python 3",
   "language": "python",
   "name": "python3"
  },
  "language_info": {
   "codemirror_mode": {
    "name": "ipython",
    "version": 3
   },
   "file_extension": ".py",
   "mimetype": "text/x-python",
   "name": "python",
   "nbconvert_exporter": "python",
   "pygments_lexer": "ipython3",
   "version": "3.10.8"
  },
  "vscode": {
   "interpreter": {
    "hash": "c149fc0de0885611b468a0cc37d69aa5a86a4dd00b4e9702a10e3c4cb95c4c6c"
   }
  }
 },
 "nbformat": 4,
 "nbformat_minor": 2
}
