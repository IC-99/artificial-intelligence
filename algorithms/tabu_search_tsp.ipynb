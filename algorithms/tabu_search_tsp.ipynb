{
 "cells": [
  {
   "cell_type": "code",
   "execution_count": 1,
   "id": "2e547f9c",
   "metadata": {},
   "outputs": [],
   "source": [
    "import copy"
   ]
  },
  {
   "cell_type": "code",
   "execution_count": 2,
   "id": "2ac544fc",
   "metadata": {},
   "outputs": [],
   "source": [
    "def eval_stato(stato):\n",
    "        \n",
    "    lunghezza_percorso = 0\n",
    "    for i in range(len(stato)):\n",
    "        l = connections[stato[i]]\n",
    "        if i < (len(stato) - 1):\n",
    "            nodo_succ = stato[i + 1]\n",
    "        else:\n",
    "            nodo_succ = stato[0]\n",
    "        for (successore, distanza) in l:\n",
    "            if successore == nodo_succ:\n",
    "                lunghezza_percorso += distanza\n",
    "                break\n",
    "    return(lunghezza_percorso)"
   ]
  },
  {
   "cell_type": "code",
   "execution_count": 3,
   "id": "a59fcc7c",
   "metadata": {},
   "outputs": [],
   "source": [
    "def generazione_successori(stato): \n",
    "    \"\"\"\"\n",
    "    genera la lista ordinata di successori di uno stato\n",
    "    \"\"\"\"\"\n",
    "        \n",
    "    lista = []\n",
    "    t = len(stato)\n",
    "    \n",
    "    for i in range(0, t-1):\n",
    "        for j in range(i+1, t):\n",
    "            buffer = copy.deepcopy(stato)\n",
    "            temp = buffer[i]\n",
    "            buffer[i] = buffer[j]\n",
    "            buffer[j] = temp\n",
    "            eval_successore = eval_stato(buffer)\n",
    "            lista.append((buffer, eval_successore, (stato[i], stato[j])))  \n",
    "\n",
    "    lista.sort(key=lambda x: x[1])  # ordiniamo i successori in base alla loro valutazione eval_stato\n",
    "    return(lista)\n",
    "        "
   ]
  },
  {
   "cell_type": "code",
   "execution_count": 4,
   "id": "c228166b",
   "metadata": {},
   "outputs": [],
   "source": [
    "def tabu_test(sequenza, tabu_list):    # è True se una mossa NON è presente nella tabu_list\n",
    "    \n",
    "    a, b = sequenza[2]\n",
    "    if ((a, b) in tabu_list or (b, a) in tabu_list):\n",
    "        assente = False\n",
    "    else:\n",
    "        assente = True\n",
    "    return(assente)"
   ]
  },
  {
   "cell_type": "code",
   "execution_count": 5,
   "id": "d9186eef",
   "metadata": {},
   "outputs": [],
   "source": [
    "def tabu_search(stato_iniziale, tabu_tenure, connections):\n",
    "           \n",
    "    # impostazione stato iniziale\n",
    "    current = stato_iniziale\n",
    "    eval_current = eval_stato(current)\n",
    "    \n",
    "    # inizializzazione best\n",
    "    best = stato_iniziale\n",
    "    eval_best = eval_current\n",
    "        \n",
    "    tabu_list = {}\n",
    "    neighbours = []\n",
    "        \n",
    "    cont = 0\n",
    "    \n",
    "    # while not criterio_terminazione():\n",
    "    while cont < 10:\n",
    "            \n",
    "        # generazione successori (stato, eval_stato, mossa) e ordinamento su eval_stato\n",
    "        lista_successori = generazione_successori(current)           \n",
    "            \n",
    "        # selezione successori non tabu\n",
    "        neighbours = list(filter(lambda n: tabu_test(n, tabu_list), lista_successori))\n",
    "            \n",
    "        next_state = neighbours[0][0]         # selezione del migliore dei successori\n",
    "        eval_next_state = neighbours[0][1]\n",
    "        delta = eval_best - eval_next_state\n",
    "        if delta > 0:\n",
    "            best = next_state                 # aggiornamento di best\n",
    "            eval_best = eval_next_state       \n",
    "        current = next_state\n",
    "        eval_current = eval_next_state\n",
    "            \n",
    "        # decremento del tabu_tenure\n",
    "        for mossa in tabu_list:\n",
    "            tabu_list[mossa] = tabu_list[mossa] - 1\n",
    "                \n",
    "        # eliminazione elementi con tenure uguale a zero \n",
    "        tabu_list = {k: tabu_list[k] for k in tabu_list if tabu_list[k]!=0}   \n",
    "  \n",
    "        # inserimento della mossa di next nella tabu_list\n",
    "        mossa_next = neighbours[0][2]\n",
    "        tabu_list[mossa_next] = tabu_tenure\n",
    "            \n",
    "        cont += 1\n",
    "                \n",
    "    return(best + [best[0]], eval_best)"
   ]
  },
  {
   "cell_type": "code",
   "execution_count": 6,
   "id": "328b352f",
   "metadata": {},
   "outputs": [],
   "source": [
    "# connessioni tra città con relative distanze\n",
    "\n",
    "connections = {}\n",
    "\n",
    "connections['A'] = [['B', 4], ['C', 2], ['D',  1], ['E',  2]]\n",
    "connections['B'] = [['A', 4], ['C', 1], ['D', 2], ['E', 3]]\n",
    "connections['C'] = [['A', 2], ['B', 1], ['D', 3], ['E',  2]]\n",
    "connections['D'] = [['A', 1], ['B', 2], ['C',  3], ['E',  2]]\n",
    "connections['E'] = [['A', 2], ['B',  3], ['C',  2], ['D',  2]]\n"
   ]
  },
  {
   "cell_type": "code",
   "execution_count": 7,
   "id": "23263e0a",
   "metadata": {},
   "outputs": [],
   "source": [
    "stato = ['A', 'B', 'C', 'D', 'E']"
   ]
  },
  {
   "cell_type": "code",
   "execution_count": 8,
   "id": "754256cb",
   "metadata": {},
   "outputs": [
    {
     "data": {
      "text/plain": [
       "(['C', 'B', 'D', 'A', 'E', 'C'], 8)"
      ]
     },
     "execution_count": 8,
     "metadata": {},
     "output_type": "execute_result"
    }
   ],
   "source": [
    "tabu_search(stato, 3, connections)"
   ]
  }
 ],
 "metadata": {
  "kernelspec": {
   "display_name": "Python 3",
   "language": "python",
   "name": "python3"
  },
  "language_info": {
   "codemirror_mode": {
    "name": "ipython",
    "version": 3
   },
   "file_extension": ".py",
   "mimetype": "text/x-python",
   "name": "python",
   "nbconvert_exporter": "python",
   "pygments_lexer": "ipython3",
   "version": "3.10.8"
  },
  "vscode": {
   "interpreter": {
    "hash": "c149fc0de0885611b468a0cc37d69aa5a86a4dd00b4e9702a10e3c4cb95c4c6c"
   }
  }
 },
 "nbformat": 4,
 "nbformat_minor": 5
}
