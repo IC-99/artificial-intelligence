{
  "cells": [
    {
      "cell_type": "code",
      "execution_count": 25,
      "metadata": {
        "colab": {
          "base_uri": "https://localhost:8080/"
        },
        "id": "dK9sz_i9q3xt",
        "outputId": "ed19b58a-ca4b-4cb2-bc58-f4fe53eb9d2a"
      },
      "outputs": [],
      "source": [
        "import random as rn\n",
        "import numpy as np\n",
        "from numpy.random import choice as np_choice\n",
        "\n",
        "class AntColony(object):\n",
        "\n",
        "    def __init__(self, distances, n_ants, n_best, n_iterations, decay, alpha=1, beta=1):\n",
        "        \"\"\"\n",
        "        Args:\n",
        "            distances (2D numpy.array): Matrice quadrata delle distanze. Si assume np.inf nella diagonale.\n",
        "            n_ants (int): Numero di agenti per ogni iterazione\n",
        "            n_best (int): Numero di agenti con migliori performance che possono rilasciare feromone\n",
        "            n_iteration (int): Numero iterazioni\n",
        "            decay (float): Pheromone decay (es. 0.95). Il valore del feromone viene moltiplicato per il decay.\n",
        "            alpha (int or float): valore dell'esponente per il feronome (default = 1)\n",
        "            beta (int or float): valore dell'esponente per la distanza (default = 1)\n",
        "\n",
        "        Esempio:\n",
        "            ant_colony = AntColony(german_distances, 100, 20, 2000, 0.95, alpha=1, beta=2)          \n",
        "        \"\"\"\n",
        "        self.distances  = distances\n",
        "        self.pheromone = np.ones(self.distances.shape) / len(distances)\n",
        "        self.all_inds = range(len(distances))\n",
        "        self.n_ants = n_ants\n",
        "        self.n_best = n_best\n",
        "        self.n_iterations = n_iterations\n",
        "        self.decay = decay\n",
        "        self.alpha = alpha\n",
        "        self.beta = beta\n",
        "\n",
        "    # funzione principale richiamata dall'esterno della classe una volta\n",
        "    # inizializzata la classe\n",
        "    def run(self):\n",
        "        shortest_path = None\n",
        "        all_time_shortest_path = (\"placeholder\", np.inf)\n",
        "        for i in range(self.n_iterations):\n",
        "            all_paths = self.gen_all_paths()\n",
        "            self.spread_pheronome(all_paths, self.n_best, shortest_path=shortest_path)\n",
        "            shortest_path = min(all_paths, key=lambda x: x[1])\n",
        "            #print (shortest_path)\n",
        "            if shortest_path[1] < all_time_shortest_path[1]:\n",
        "                all_time_shortest_path = shortest_path            \n",
        "            self.pheromone = self.pheromone * self.decay            \n",
        "        return all_time_shortest_path\n",
        "\n",
        "    # aggiornamento del feromone\n",
        "    def spread_pheronome(self, all_paths, n_best, shortest_path):\n",
        "        sorted_paths = sorted(all_paths, key=lambda x: x[1])\n",
        "        for path, dist in sorted_paths[:n_best]:\n",
        "            for move in path:\n",
        "                self.pheromone[move] += 1.0 / self.distances[move]\n",
        "\n",
        "    # calcolo della distanza\n",
        "    def gen_path_dist(self, path):\n",
        "        total_dist = 0\n",
        "        for ele in path:\n",
        "            total_dist += self.distances[ele]\n",
        "        return total_dist\n",
        "\n",
        "    def gen_all_paths(self):\n",
        "        all_paths = []\n",
        "        for i in range(self.n_ants):\n",
        "            path = self.gen_path(0)\n",
        "            all_paths.append((path, self.gen_path_dist(path)))\n",
        "        return all_paths\n",
        "\n",
        "    def gen_path(self, start):\n",
        "        path = []\n",
        "        visited = set()\n",
        "        visited.add(start)\n",
        "        prev = start\n",
        "        for i in range(len(self.distances) - 1):\n",
        "            move = self.pick_move(self.pheromone[prev], self.distances[prev], visited)\n",
        "            path.append((prev, move))\n",
        "            prev = move\n",
        "            visited.add(move)\n",
        "        path.append((prev, start)) # going back to where we started    \n",
        "        return path\n",
        "\n",
        "    # determina la mossa per ogni agente\n",
        "    def pick_move(self, pheromone, dist, visited):\n",
        "        pheromone = np.copy(pheromone)\n",
        "        pheromone[list(visited)] = 0\n",
        "\n",
        "        row = pheromone ** self.alpha * (( 1.0 / dist) ** self.beta)\n",
        "\n",
        "        norm_row = row / row.sum()\n",
        "        move = np_choice(self.all_inds, 1, p=norm_row)[0]\n",
        "        return move"
      ]
    },
    {
      "cell_type": "code",
      "execution_count": null,
      "metadata": {},
      "outputs": [],
      "source": [
        "\"\"\"\n",
        "distances = np.array([[np.inf, 2, 2, 5, 7, 3, 5, 4, 7, 1, 5],\n",
        "                      [2, np.inf, 4, 8, 2, 2, 6, 4, 6, 2, 3],\n",
        "                      [2, 4, np.inf, 1, 3, 4, 2, 6, 3, 4, 1],\n",
        "                      [5, 8, 1, np.inf, 2, 3, 4, 2, 5, 4, 5],\n",
        "                      [7, 3, 4, 2, np.inf, 4, 3, 3, 2, 3, 1],\n",
        "                      [3, 1, 5, 5, 3, np.inf, 3, 4, 4, 6, 6],\n",
        "                      [4, 3, 6, 4, 3, 4, np.inf, 5, 4, 3, 5],\n",
        "                      [5, 2, 3, 4, 2, 4, 2, np.inf, 2, 1, 7],\n",
        "                      [2, 4, 4, 3, 5, 5, 3, 5, np.inf, 2, 1],\n",
        "                      [7, 2, 2, 3, 2, 3, 5, 2, 4, np.inf, 4],\n",
        "                      [4, 3, 1, 1, 5, 2, 4, 5, 5, 3, np.inf]])\n",
        "\"\"\""
      ]
    },
    {
      "cell_type": "code",
      "execution_count": 69,
      "metadata": {},
      "outputs": [
        {
          "data": {
            "text/plain": [
              "array([[inf,  7.,  6., ...,  2.,  3.,  3.],\n",
              "       [ 6., inf,  2., ...,  2.,  6.,  4.],\n",
              "       [ 6.,  1., inf, ...,  3.,  1.,  7.],\n",
              "       ...,\n",
              "       [ 2.,  4.,  5., ..., inf,  7.,  6.],\n",
              "       [ 7.,  2.,  1., ...,  7., inf,  7.],\n",
              "       [ 1.,  7.,  4., ...,  1.,  5., inf]])"
            ]
          },
          "execution_count": 69,
          "metadata": {},
          "output_type": "execute_result"
        }
      ],
      "source": [
        "lst = []\n",
        "size = 50\n",
        "for i in range(size):\n",
        "    row = []\n",
        "    for j in range(size):\n",
        "        if i == j:\n",
        "            row.append(np.inf)\n",
        "        else:\n",
        "            row.append(np.random.randint(1, 8))\n",
        "    lst.append(row)\n",
        "distances = np.array(lst)\n",
        "distances"
      ]
    },
    {
      "cell_type": "code",
      "execution_count": 71,
      "metadata": {},
      "outputs": [
        {
          "name": "stdout",
          "output_type": "stream",
          "text": [
            "shorted_path: ([(0, 36), (36, 37), (37, 19), (19, 20), (20, 16), (16, 24), (24, 5), (5, 44), (44, 3), (3, 39), (39, 34), (34, 14), (14, 49), (49, 23), (23, 4), (4, 21), (21, 46), (46, 2), (2, 35), (35, 25), (25, 42), (42, 11), (11, 29), (29, 45), (45, 15), (15, 10), (10, 33), (33, 13), (13, 6), (6, 26), (26, 32), (32, 7), (7, 40), (40, 27), (27, 48), (48, 17), (17, 12), (12, 31), (31, 18), (18, 28), (28, 22), (22, 8), (8, 9), (9, 41), (41, 30), (30, 1), (1, 38), (38, 47), (47, 43), (43, 0)], 50.0)\n",
            "costs: [1.0, 1.0, 1.0, 1.0, 1.0, 1.0, 1.0, 1.0, 1.0, 1.0, 1.0, 1.0, 1.0, 1.0, 1.0, 1.0, 1.0, 1.0, 1.0, 1.0, 1.0, 1.0, 1.0, 1.0, 1.0, 1.0, 1.0, 1.0, 1.0, 1.0, 1.0, 1.0, 1.0, 1.0, 1.0, 1.0, 1.0, 1.0, 1.0, 1.0, 1.0, 1.0, 1.0, 1.0, 1.0, 1.0, 1.0, 1.0, 1.0, 1.0]\n"
          ]
        }
      ],
      "source": [
        "ant_colony = AntColony(distances, 30, 10, 300, 0.95, alpha=1, beta=1)\n",
        "shortest_path = ant_colony.run()\n",
        "print (\"shorted_path: {}\".format(shortest_path))\n",
        "costs = []\n",
        "for edge in shortest_path[0]:\n",
        "    costs.append(distances[edge[0]][edge[1]])\n",
        "print('costs:', costs)"
      ]
    }
  ],
  "metadata": {
    "colab": {
      "name": "Ant.ipynb",
      "provenance": []
    },
    "kernelspec": {
      "display_name": "Python 3",
      "language": "python",
      "name": "python3"
    },
    "language_info": {
      "codemirror_mode": {
        "name": "ipython",
        "version": 3
      },
      "file_extension": ".py",
      "mimetype": "text/x-python",
      "name": "python",
      "nbconvert_exporter": "python",
      "pygments_lexer": "ipython3",
      "version": "3.10.8"
    },
    "vscode": {
      "interpreter": {
        "hash": "c149fc0de0885611b468a0cc37d69aa5a86a4dd00b4e9702a10e3c4cb95c4c6c"
      }
    }
  },
  "nbformat": 4,
  "nbformat_minor": 0
}
